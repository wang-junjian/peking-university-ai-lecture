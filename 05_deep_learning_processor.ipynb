{
 "cells": [
  {
   "cell_type": "markdown",
   "metadata": {},
   "source": [
    "# 北大第五课：深度学习处理器"
   ]
  },
  {
   "cell_type": "markdown",
   "metadata": {},
   "source": [
    "## 智能应用成为计算机主要负载\n",
    "\n",
    "寒武纪做**智能芯片**最主要的`目标`就是去**完成各种各样的智能计算任务**，为它们提供核心芯片的支撑。\n",
    "\n",
    "### 智能应用\n",
    "* `超级计算机`上做的**商业分析**、**药物研制**等。\n",
    "* `数据中心`的**广告推荐**、**自动翻译**等。\n",
    "* `手机`里的**语音识别**、**图像分析**等。\n",
    "* `嵌入式设备`方面的**机器人**、**自动驾驶**、**手环**、**手表**等。\n",
    "\n",
    "### 智能任务处理方法\n",
    "* 符号主义\n",
    "* 行为主义\n",
    "* 联结主义"
   ]
  },
  {
   "cell_type": "markdown",
   "metadata": {},
   "source": [
    "## AI芯片组产品\n",
    "* 中央处理器（CPU）\n",
    "* 图形处理器（GPU）\n",
    "* 神经网络处理器（NNP）\n",
    "* 专用集成电路（ASIC）\n",
    "* 现场可编程门阵列（FPGA）\n",
    "* 精简指令集（RISC）处理器\n",
    "* 加速器"
   ]
  },
  {
   "cell_type": "markdown",
   "metadata": {},
   "source": [
    "## 参考资料\n",
    "\n",
    "* [中科院计算所研究员陈云霁：深度学习处理器的现状及发展 | 北大AI公开课笔记](http://www.sohu.com/a/226770566_610300)\n",
    "* [全球AI芯片企业排行：英伟达第1，华为第12（七家中国公司入围Top24）](http://t.cj.sina.com.cn/articles/view/6105753431/16bee6757027006fi1?from=tech)"
   ]
  }
 ],
 "metadata": {
  "kernelspec": {
   "display_name": "Python 3",
   "language": "python",
   "name": "python3"
  },
  "language_info": {
   "codemirror_mode": {
    "name": "ipython",
    "version": 3
   },
   "file_extension": ".py",
   "mimetype": "text/x-python",
   "name": "python",
   "nbconvert_exporter": "python",
   "pygments_lexer": "ipython3",
   "version": "3.6.4"
  }
 },
 "nbformat": 4,
 "nbformat_minor": 2
}

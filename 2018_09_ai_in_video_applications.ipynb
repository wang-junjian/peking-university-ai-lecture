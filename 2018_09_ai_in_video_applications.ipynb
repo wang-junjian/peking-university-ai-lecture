{
 "cells": [
  {
   "cell_type": "markdown",
   "metadata": {},
   "source": [
    "# 北大第九课：人工智能在视频中的应用"
   ]
  },
  {
   "cell_type": "markdown",
   "metadata": {},
   "source": [
    "## 人工智能：理想与现实\n",
    "\n",
    "### 成功的指标\n",
    "* AI的PHD，如果毕业前能有第一作者单篇引用过百的论文，基本可以说是一个非常成功的PHD毕业生。\n",
    "* AI的研究者，比如说研究所或者高校的教授，如果有第一作者单篇引用过千的论文，那么基本可以说是AI领域非常不错的研究者。\n",
    "* AI的创业者，假如说要做APP相关的产品，如果有一款产品的DAU能达到五千万的话，在中国就算非常成功了。\n",
    "\n",
    "    > PHD（Philosophic Doctor） 博士\n",
    "    \n",
    "    > DAU（Daily Active User） 日活跃用户\n",
    "    \n",
    "    > `价值在于稀缺性`，现在每年AI相关论文有四千多篇被接收。因为不稀缺，所以量已经不那么重要，单篇影响力反而更重要。\n",
    "\n",
    "### 四个主要方向\n",
    "* 视觉\n",
    "* 语音\n",
    "* 语义\n",
    "* 大数据\n",
    "\n",
    "    > 人工智能具体在干些什么呢？从交互的角度来说，主要处理人、互联网、物联设备、物理世界这四者的关系，涉及到的数据包括视觉、语音、语义、大数据。\n",
    "\n",
    "### 三种状态\n",
    "* 初创公司，专注于某一产品或者某一领域，所有研发者都非常聚焦。\n",
    "* 百亿美金级公司，比如Pre-IPO的公司，公司内部往往有一个AI实验室/平台部门，对这个公司所有的AI需求作全方位的支持。\n",
    "* 千亿级美金的公司，每个事业部有各自的有侧重点的人工智能团队，当公司准备启动一个AI的新产品，不同的团队可以提供不同的方案，胜出者则主导这个产品，对于大公司来说这对于保障成功性很有意义。\n",
    "\n",
    "### 解决两类不同的问题\n",
    "* Soft-tasks，只要有一点点进展，就能带来很及时的效益，比如说广告推荐技术，每提高一个百分点，都具有非常大的价值。\n",
    "* Hard-tasks，很长一段时间是默默无闻的，要等技术积累到一定水平，性能达到一定阈值，才能快速推动商业化。\n",
    "\n",
    "### 四元分析\n",
    "* ```场景```\n",
    "* 算法\n",
    "* 算力\n",
    "* 数据\n",
    "\n",
    "### 工业界做一个基于AI的产品，需要考虑四个维度：\n",
    "* 满足高频刚需\n",
    "* 技术要成熟\n",
    "* 技术壁垒\n",
    "* 商业变现模式\n",
    "\n",
    "### 大家经常参加的竞赛\n",
    "* ImageNet - 物体\n",
    "* LFW - 人脸\n",
    "* TRECVID - 视频\n",
    "* Switchboard - 语音\n",
    "\n",
    "### 研发的目标\n",
    "* 精度极限\n",
    "* 用户体验"
   ]
  },
  {
   "cell_type": "markdown",
   "metadata": {},
   "source": [
    "## 深度学习：模型与应用\n",
    "\n",
    "### 模型\n",
    "* AlexNet\n",
    "* Network in Network\n",
    "* GoogleNet\n",
    "* Residual Networks\n",
    "* GAN\n",
    "* Cycle-GAN\n",
    "* Star-GAN\n",
    "\n",
    "### 应用\n",
    "* 图像\n",
    "    * 人脸检测\n",
    "    * 人脸识别\n",
    "    * 人脸属性分析\n",
    "    * 图像翻译成自然语言\n",
    "    * 视觉问答系统（VQA）\n",
    "    * 检索\n",
    "* 文本检测与识别\n",
    "    * 自然场景印刷体：文字定位和识别\n",
    "    * 手写体：在线手写和离线手写（CACIA，在线离线中文手写数据库）\n",
    "* 语音交互\n",
    "    * 语音识别（Switchboard：2000小时的英文对话）\n",
    "    * 语义理解（基于语义相似性。聊天系统：规则匹配）\n",
    "    * 语音合成\n",
    "    * 语言翻译\n",
    "* 大数据\n",
    "    * 金融-信贷（风控、反欺诈）\n",
    "\n",
    "### 技术趋势\n",
    "* 无监督学习\n",
    "* 自学习"
   ]
  },
  {
   "cell_type": "markdown",
   "metadata": {},
   "source": [
    "## 人工智能：AI vs 安全\n",
    "\n",
    "### 框架的复杂度和依赖库\n",
    "平台           |代码行数|依赖库|依赖库例子\n",
    "--------------|-------|-----|--------\n",
    "**Caffe**     |127K+  |137  |Libprotobuf, libz, opencv, libopenblas\n",
    "**TensorFlow**|887K+  |97   |numpy, librosa\n",
    "**Torch**     |590K+  |48   |xlua, qtsvg, opencv\n",
    "\n"
   ]
  },
  {
   "cell_type": "markdown",
   "metadata": {},
   "source": [
    "## 人工智能：产业杂谈\n",
    "\n",
    "### AI+区块链\n",
    "公司|估值|目标市场|商业模式\n",
    "---|---|-------|-------\n",
    "[ocean](https://oceanprotocol.com)|3.4亿美金|数据交易和共享|利用区域链进行数据共享和交换\n",
    "[CORTEX](http://www.cortexlabs.ai)|1.2亿美金|在线inference|分布式运行用户上传模型\n",
    "[Raven Protocol](https://www.ravenprotocol.com)|未发布|分布式训练|利用闲置资源进行分布式计算\n"
   ]
  },
  {
   "cell_type": "markdown",
   "metadata": {},
   "source": [
    "## 现场讨论： 爆款APP\n",
    "\n",
    "### 如果给你足够投资，你准备做款什么样的爆款AI-APP?\n",
    "* 技术壁垒\n",
    "* 变现的途径"
   ]
  },
  {
   "cell_type": "markdown",
   "metadata": {},
   "source": [
    "## 参考资料\n",
    "\n",
    "* [360首席科学家颜水成：人工智能杂谈 | 北大AI公开课笔记](https://mp.weixin.qq.com/s/fbsowjTuN7XfIgylsbXg9A)"
   ]
  }
 ],
 "metadata": {
  "kernelspec": {
   "display_name": "Python 3",
   "language": "python",
   "name": "python3"
  },
  "language_info": {
   "codemirror_mode": {
    "name": "ipython",
    "version": 3
   },
   "file_extension": ".py",
   "mimetype": "text/x-python",
   "name": "python",
   "nbconvert_exporter": "python",
   "pygments_lexer": "ipython3",
   "version": "3.6.4"
  }
 },
 "nbformat": 4,
 "nbformat_minor": 2
}

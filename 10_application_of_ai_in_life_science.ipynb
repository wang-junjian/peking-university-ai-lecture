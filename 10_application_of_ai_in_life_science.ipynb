{
 "cells": [
  {
   "cell_type": "markdown",
   "metadata": {},
   "source": [
    "# 北大第十课：人工智能在生命科学中的应用"
   ]
  },
  {
   "cell_type": "markdown",
   "metadata": {},
   "source": [
    "## 健康管理\n",
    "\n",
    "### 用于个人健康管理的生物信息学\n",
    "* 预测生命状态的未来演变方向和趋势\n",
    "* 预测干预措施及其组合方案对生命状态未来演变趋势的影响\n",
    "* 给定生命状态的未来目标，求极大化该目标实现概率的可行干预方案\n",
    "* 技术上来说，就是对人类生命活动进行建模，提供可影响人类决策的行为建议\n",
    "\n",
    "> 以后通过软件可以管理人的生老病死\n",
    "\n",
    "### 交流\n",
    "* 人体基因的全测在1000美元以下，很快就会在100美元了。\n",
    "* 人的整个健康过程中的影响：先天因素（遗传）、后天因素（生活习惯）、人文因素（社会、心理）、医疗因素（医疗条件比较好），这四个因素基本是可比的，影响是均分的。\n",
    "* 干细胞做治疗的很多，通过的少。\n",
    "* 医药适合AI发挥的非常重要的方向：`旧药的新用`和`新药的研发`。目前`医疗影像`和`医疗诊断和决策`发展的比较热。\n",
    "* 西医治疗需要依赖`指南`+`经验`。\n",
    "* 健康管理的思路是`顺着人性`管理（如：我非要喝酒）。只管理一个维度价值不大，要多维度综合考虑。\n",
    "* 从事人工智能方面的工作，2/3的时间是在做数据整理（需要专业的领域知识）。"
   ]
  },
  {
   "cell_type": "markdown",
   "metadata": {},
   "source": [
    "## 参考资料\n",
    "* [碳云智能李英睿：人工智能在生命科学中的应用 | 北大AI公开课实录](http://www.sohu.com/a/231161921_483391)\n",
    "* [碳云智能](https://www.icarbonx.com)"
   ]
  }
 ],
 "metadata": {
  "kernelspec": {
   "display_name": "Python 3",
   "language": "python",
   "name": "python3"
  },
  "language_info": {
   "codemirror_mode": {
    "name": "ipython",
    "version": 3
   },
   "file_extension": ".py",
   "mimetype": "text/x-python",
   "name": "python",
   "nbconvert_exporter": "python",
   "pygments_lexer": "ipython3",
   "version": "3.6.4"
  }
 },
 "nbformat": 4,
 "nbformat_minor": 2
}

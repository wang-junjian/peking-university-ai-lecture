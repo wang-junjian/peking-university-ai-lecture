{
 "cells": [
  {
   "cell_type": "markdown",
   "metadata": {},
   "source": [
    "# 北大第八课：自然语言对话的现状和未来"
   ]
  },
  {
   "cell_type": "markdown",
   "metadata": {},
   "source": [
    "## 合理行动的机器\n",
    "\n",
    "### 人工智能的四个定义\n",
    "> 构建智能机器\n",
    "\n",
    "* 像人一样思考的机器\n",
    "* 像人一样行动的机器\n",
    "* 合理思考的机器\n",
    "* 合理行动的机器\n",
    "\n",
    "目前很多人工智能系统只是`合理行动`，比如阿尔法狗、机器翻译、自动驾驶等。\n",
    "\n",
    "### 合理行动的智能机器具有五个特点\n",
    "* 智能系统\n",
    "* 明确目标\n",
    "* 评价标准 （评价完成目标的好坏）\n",
    "* 环境互动\n",
    "* 功能（输入和输出到达完成的目的）\n",
    "\n",
    "### 脑科学先驱人物 - 马尔\n",
    "* 计算分三个层次\n",
    "    * 功能（输入输出）\n",
    "    * 算法（不同系统有不同的算法）\n",
    "    * 实现和物理层面\n",
    "    \n",
    "> 今天我们人工智能更多是从`功能`的角度去思考。"
   ]
  },
  {
   "cell_type": "markdown",
   "metadata": {},
   "source": [
    "## 自然语言理解\n",
    "\n",
    "### 两种定义\n",
    "* 基于表示：系统把人的语言转化成内部的表示。（语义）\n",
    "* 基于行为：我们说了一句话，机器人按我们的要求做了。（语用）\n",
    "\n",
    "### 人类的语言理解\n",
    "* 词汇（Lexicon）：语言是一个很复杂的现象、词汇量很大，一般人掌握五万到十万的词汇量。\n",
    "* 句法（Syntax）：是成千上万人慢慢发展而来，像维基百科一样，自下而上发展。\n",
    "* 语义（Semantics）：语义处理就是映射为大脑内部的表示，是多对多的映射，很复杂、有多义性和多样性。理解语言要表达的意思。\n",
    "* 语用（Pragmatics）：在上下文的基础上理解语言要表达的意思。比如说这个房间很热，我可能是表示我很热但也可能包含想要让你把窗户打开的意思。\n",
    "\n",
    "### 人脑\n",
    "* 人脑在处理自然语言的时候，其实整个大脑都在参与理解。\n",
    "* Broca’s区负责句法。（说话会蹦词）\n",
    "* Wernicke’s负责词汇。（说话时不能形成完整的语义）\n",
    "* 当问你大猩猩有没有鼻子，你脑子首先想到的是大猩猩的样子（image)。表象\n",
    "* 时间的理解是把它映射到空间，形成了一种固定的思维。认知\n",
    "\n",
    "### 多义性多样性\n",
    "> 语义处理很重要的挑战\n",
    "\n",
    "* 所以大脑处理是很复杂的、重要的挑战是多义性和多样性（比如近义词很有挑战，所以语言理解是要做复杂的映射，不同的语义是有不同的）\n",
    "* I saw a girl with a telescope 典型歧义，是用望远镜看那个女孩还是那个带望远镜的女孩，要有上下文去理解\n",
    "\n",
    "大脑神经元数量10的11次方，连接10的15次方。"
   ]
  },
  {
   "cell_type": "markdown",
   "metadata": {},
   "source": [
    "## 对话\n",
    "\n",
    "> 完成任务为目的\n",
    "\n",
    "### 复杂 Complexity\n",
    "* 前面我们说很复杂，其实计算机做的就是模型化去完成一个任务，对话是两个人在交流的一个状态下所有的谈话内容，这个历史记录是非常庞大的。\n",
    "* 对话面对的三大挑战：多义性、多样性、复杂性。\n",
    "\n",
    "### 问题和解决方法\n",
    "* 单轮对话\n",
    "    * 基于分析（分类问题或者结构预测问题）。应用：语音助手\n",
    "        ![基于分析架构图](images/08_analysis_based_approach.png)\n",
    "    * 基于检索（匹配问题）。应用：问答系统\n",
    "        ![基于检索架构图](images/08_retrieval_based_approach.png)\n",
    "    * 基于生成（翻译问题）。应用：聊天机器人\n",
    "        ![基于生成架构图](images/08_generation_based_approach.png)\n",
    "* 多轮对话\n",
    "    * 以任务为导向，通常以分析为基础\n",
    "    * 输入：多轮话语\n",
    "    * 输出：多轮回应\n",
    "    * 对话管理：马尔科夫决策过程\n",
    "    * 学习：强化学习\n",
    "        * 状态：任务信息\n",
    "        * 行动：对用户提出问题或回应\n",
    "        * 奖励：任务完成\n",
    "    ![多轮对话架构图](images/08_multi-turn_dialogue.png)\n",
    "\n",
    "### 相关的例子\n",
    "* Neural Symbolic Machines（谷歌）\n",
    "![](images/08_neural_symbolic_machines_google.png)\n",
    "\n",
    "* Neural Enquirer and Symbolic Enquirer（华为）\n",
    "![](images/08_neural_enquirer_and_symbolic_enquirer_huawei.png)\n",
    "\n",
    "* Deep Reinforcement Learning（微软）\n",
    "![](images/08_dialogue_management_using_hierarchical_deep_reinforcement_learning_microsoft.png)"
   ]
  },
  {
   "cell_type": "markdown",
   "metadata": {},
   "source": [
    "## Current Trends and Future Actions（当前的趋势和未来的行动）\n",
    "> 翻译来自 [Google翻译](https://translate.google.cn/)\n",
    "\n",
    "* Semantic Grounding\n",
    "* 语义接地\n",
    "    - mapping language expressions to internal representations\n",
    "    - 将语言表达映射到内部表示\n",
    "* Neural Symbolic Processing\n",
    "* 神经符号处理\n",
    "    - Leveraging advantages of neural processing and symbolic processing (robust to uncertainty & noisy and easy to interpret & manipulate)\n",
    "    - 利用神经处理和符号处理的优势（鲁棒性不确定性和嘈杂，易于解释和操纵）\n",
    "* Deep Reinforcement Learning\n",
    "* 深入强化学习\n",
    "    - Some NLP problems can be more naturally modeled as reinforcement learning issues\n",
    "    - 一些NLP问题可以更自然地模拟为强化学习问题\n",
    "    - Deep neural network as function approximator for reinforcement learning\n",
    "    - 深度神经网络作为函数逼近器进行强化学习\n",
    "* Modular and Hierarchical Processing\n",
    "* 模块化和分层处理\n",
    "    - Complex NLP problems such as dialogue can be addressed in more effective and efficient way\n",
    "    - 复杂的NLP问题如对话可以以更有效和更有效的方式解决\n",
    "* Meta Learning (Learning to Learn, Few-shot Learning)\n",
    "* 元学习（学习学习，少数学习）\n",
    "    - Dealing with small data challenge\n",
    "    - 处理小数据挑战"
   ]
  },
  {
   "cell_type": "markdown",
   "metadata": {},
   "source": [
    "## 现场讨论\n",
    "\n",
    "* `深度学习就是用数据驱动学习一个复杂函数。`\n",
    "* 类脑计算是很重要的一个方向。\n",
    "* 人在聊天的时候全脑都在参与。\n",
    "* 生成，序列对序列，有条件的生成目前还是不错的。没有条件的还是有挑战的，比如`今日头条有小明机器人写文章还是基于模板`。 小明现在已经写了三万多篇——小明看世界。这是机器人写的，有了很高的阅读量和人写的水平是持平。但他的技术`还没有运用深度学习`，这方面还是有点困难的，也在研究。文学创造还是很难的，人创作的能力又是另外一个层次能力。我们刚才说的只是简单的概念。深度学习在创作这方面还是远远达不到人的。\n",
    "* 已有的产品或者服务，加上人工智能会变得更智能化，成功的一般也都是在这一块。\n",
    "* `标注数据也是一门学问`。"
   ]
  },
  {
   "cell_type": "markdown",
   "metadata": {},
   "source": [
    "## 参考资料\n",
    "* [今日头条李航：自然语言对话的现状与未来 | 北大AI公开课实录](http://www.sohu.com/a/228845059_483391)"
   ]
  }
 ],
 "metadata": {
  "kernelspec": {
   "display_name": "Python 3",
   "language": "python",
   "name": "python3"
  },
  "language_info": {
   "codemirror_mode": {
    "name": "ipython",
    "version": 3
   },
   "file_extension": ".py",
   "mimetype": "text/x-python",
   "name": "python",
   "nbconvert_exporter": "python",
   "pygments_lexer": "ipython3",
   "version": "3.6.4"
  }
 },
 "nbformat": 4,
 "nbformat_minor": 2
}
